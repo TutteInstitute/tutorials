{
  "cells": [
    {
      "cell_type": "code",
      "execution_count": 1,
      "id": "d8d0c82e-9469-42d3-ba17-043ccc4a48e6",
      "metadata": {},
      "source": [
        "import bokeh.io\n",
        "import glasbey as gb\n",
        "import json\n",
        "import numpy as np\n",
        "import pandas as pd\n",
        "import panel as pn\n",
        "import thisnotthat as tnt\n",
        "import umap\n",
        "import vectorizers as vz\n",
        "import vectorizers.transformers as vzt\n",
        "from zipfile import ZipFile"
      ]
    },
    {
      "cell_type": "code",
      "execution_count": 2,
      "id": "b38e55e7-1906-48d9-9aaf-4b63076c10ca",
      "metadata": {},
      "source": [
        "bokeh.io.output_notebook()\n",
        "pn.extension()"
      ]
    },
    {
      "cell_type": "code",
      "execution_count": 3,
      "id": "efb1cb65-3ade-42ec-a998-c929f504ac15",
      "metadata": {},
      "source": [
        "with ZipFile(\"archive.zip\") as file_data:\n",
        "    train = json.loads(file_data.read(\"train.json\"))\n",
        "    test = json.loads(file_data.read(\"test.json\"))\n",
        "    data = pd.DataFrame(train + test).set_index(\"id\").sort_index()\n",
        "data"
      ]
    },
    {
      "cell_type": "code",
      "execution_count": 4,
      "id": "f4ebd5e4-317c-47ac-ae26-46d5ad5bc76a",
      "metadata": {},
      "source": [
        "%%time\n",
        "vz_ngram = vz.NgramVectorizer().fit(data[\"ingredients\"])\n",
        "vz_ngram"
      ]
    },
    {
      "cell_type": "code",
      "execution_count": 5,
      "id": "6da2f51e-f959-4a5b-b41c-732fbc0fd27d",
      "metadata": {},
      "source": [
        "vz_ngram._train_matrix"
      ]
    },
    {
      "cell_type": "code",
      "execution_count": 6,
      "id": "9d04f64c-e99e-417b-a8c6-f1779e867c3e",
      "metadata": {},
      "source": [
        "len(vz_ngram.column_index_dictionary_)"
      ]
    },
    {
      "cell_type": "code",
      "execution_count": 7,
      "id": "f826f232-69cb-4631-b25f-39706adb70b3",
      "metadata": {},
      "source": [
        "[vz_ngram.column_index_dictionary_[i] for i in range(10)]"
      ]
    },
    {
      "cell_type": "code",
      "execution_count": 34,
      "id": "9cc3d882-27ac-4b59-b621-b01028f2c12f",
      "metadata": {},
      "source": [
        "counts_raw = vz_ngram._train_matrix\n",
        "distribution_tokens = np.asarray(np.sum(counts_raw, axis=0)).squeeze()\n",
        "pd.Series(np.log10(distribution_tokens)).hist(bins=[0, 1, 2, 3, 4])"
      ]
    },
    {
      "cell_type": "code",
      "execution_count": 35,
      "id": "78b7df80-f252-4833-bbda-3d1caffc9f62",
      "metadata": {},
      "source": [
        "counts_iwt = vzt.InformationWeightTransformer().fit_transform(counts_raw)\n",
        "counts_iwt"
      ]
    },
    {
      "cell_type": "code",
      "execution_count": 36,
      "id": "c2c63106-d3c8-4a66-98f7-a4e26bcfbd98",
      "metadata": {},
      "source": [
        "distribution_iwt = np.asarray(np.sum(counts_iwt, axis=0)).squeeze()\n",
        "pd.Series(np.log10(distribution_iwt)).hist(bins=[0, 1, 2, 3, 4])"
      ]
    },
    {
      "cell_type": "code",
      "execution_count": 38,
      "id": "3eb3e34f-8aa2-4a32-8300-40d6897d3308",
      "metadata": {},
      "source": [
        "%%time\n",
        "u2 = umap.UMAP(metric=\"hellinger\", unique=True).fit_transform(counts_iwt)\n",
        "u2"
      ]
    },
    {
      "cell_type": "code",
      "execution_count": 12,
      "id": "033448dd-d1e0-4019-ae7f-7878debeeac9",
      "metadata": {},
      "source": [
        "cuisines = data[\"cuisine\"].copy().fillna(\"UNKNOWN\")\n",
        "types_cuisine = sorted(cuisines.unique())\n",
        "types_cuisine"
      ]
    },
    {
      "cell_type": "code",
      "execution_count": 28,
      "id": "1222549b-08e5-46e1-859f-143e81439baf",
      "metadata": {},
      "source": [
        "palette = gb.extend_palette([\"#eeeeee\"], len(types_cuisine))\n",
        "palette"
      ]
    },
    {
      "cell_type": "code",
      "execution_count": 33,
      "id": "7bcae981-fc62-437a-acc9-025b757f3c93",
      "metadata": {},
      "source": [
        "plot = tnt.BokehPlotPane(\n",
        "    u2,\n",
        "    labels=list(cuisines),\n",
        "    hover_text=cuisines + \" | \" + data[\"ingredients\"].map(\", \".join),\n",
        "    label_color_mapping=dict(zip(types_cuisine, palette)),\n",
        "    width=800,\n",
        "    height=800,\n",
        "    show_legend=False,\n",
        "    marker_size=.025\n",
        ")\n",
        "editor = tnt.LabelEditorWidget(labels=plot.labels, color_factors=types_cuisine, color_palette=palette, selectable_legend=True)\n",
        "editor.link_to_plot(plot)\n",
        "pn.Row(plot, editor, height=1000)"
      ]
    }
  ],
  "metadata": {
    "kernelspec": {
      "display_name": "Python 3 (ipykernel)",
      "language": "python",
      "name": "python3"
    },
    "language_info": {
      "codemirror_mode": {
        "name": "ipython",
        "version": 3
      },
      "file_extension": ".py",
      "mimetype": "text/x-python",
      "name": "python",
      "nbconvert_exporter": "python",
      "pygments_lexer": "ipython3",
      "version": "3.11.7"
    }
  },
  "nbformat": 4,
  "nbformat_minor": 5
}
